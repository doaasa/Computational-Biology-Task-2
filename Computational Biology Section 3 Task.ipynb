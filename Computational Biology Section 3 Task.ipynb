{
 "cells": [
  {
   "cell_type": "code",
   "execution_count": 3,
   "id": "eb5d92e1",
   "metadata": {},
   "outputs": [
    {
     "name": "stdout",
     "output_type": "stream",
     "text": [
      "Not Equal Weight\n"
     ]
    }
   ],
   "source": [
    "from pyopenms import *\n",
    "\n",
    "seq = AASequence.fromString(\"AVKA\")\n",
    "\n",
    "weight=seq.getMonoWeight()\n",
    "\n",
    "weightForEachAA=0\n",
    "\n",
    "for AA in seq:\n",
    "    weightForEachAA= weightForEachAA+ AA.getMonoWeight()\n",
    "    \n",
    "if(weight == weightForEachAA):\n",
    "    print(\"Equal Weight\")\n",
    "\n",
    "else:\n",
    "    print(\"Not Equal Weight\")\n",
    "    "
   ]
  },
  {
   "cell_type": "code",
   "execution_count": null,
   "id": "09460fa1",
   "metadata": {},
   "outputs": [],
   "source": []
  }
 ],
 "metadata": {
  "kernelspec": {
   "display_name": "Python 3 (ipykernel)",
   "language": "python",
   "name": "python3"
  },
  "language_info": {
   "codemirror_mode": {
    "name": "ipython",
    "version": 3
   },
   "file_extension": ".py",
   "mimetype": "text/x-python",
   "name": "python",
   "nbconvert_exporter": "python",
   "pygments_lexer": "ipython3",
   "version": "3.9.7"
  }
 },
 "nbformat": 4,
 "nbformat_minor": 5
}
